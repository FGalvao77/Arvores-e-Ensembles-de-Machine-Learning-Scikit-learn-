{
  "nbformat": 4,
  "nbformat_minor": 0,
  "metadata": {
    "colab": {
      "name": "Árvores e Ensembles de Machine Learning (Scikit-learn+).ipynb",
      "provenance": [],
      "collapsed_sections": [],
      "authorship_tag": "ABX9TyNclSlZ3lvuGqJs42kHhPwD",
      "include_colab_link": true
    },
    "kernelspec": {
      "name": "python3",
      "display_name": "Python 3"
    },
    "language_info": {
      "name": "python"
    },
    "widgets": {
      "application/vnd.jupyter.widget-state+json": {
        "c1a0fd163ab14871873355a3c1f98d97": {
          "model_module": "@jupyter-widgets/controls",
          "model_name": "VBoxModel",
          "model_module_version": "1.5.0",
          "state": {
            "_view_name": "VBoxView",
            "_dom_classes": [
              "widget-interact"
            ],
            "_model_name": "VBoxModel",
            "_view_module": "@jupyter-widgets/controls",
            "_model_module_version": "1.5.0",
            "_view_count": null,
            "_view_module_version": "1.5.0",
            "box_style": "",
            "layout": "IPY_MODEL_bca1ecb2087d40948a5a3f3847b7c8f9",
            "_model_module": "@jupyter-widgets/controls",
            "children": [
              "IPY_MODEL_b8c3ac6bfa0746beb11d47efb54b864b",
              "IPY_MODEL_89e22807bbef4b8f91355b9ab968cca6",
              "IPY_MODEL_d36961c85ebe47c3b482742721444fc8",
              "IPY_MODEL_a935ec2780a948d4b2d6a9e7c377a241",
              "IPY_MODEL_794f9ecd48eb40b3b110b11fcde1fd18",
              "IPY_MODEL_81cf7afa7c0c49488ed9161fc56ec1a8"
            ]
          }
        },
        "bca1ecb2087d40948a5a3f3847b7c8f9": {
          "model_module": "@jupyter-widgets/base",
          "model_name": "LayoutModel",
          "model_module_version": "1.2.0",
          "state": {
            "_view_name": "LayoutView",
            "grid_template_rows": null,
            "right": null,
            "justify_content": null,
            "_view_module": "@jupyter-widgets/base",
            "overflow": null,
            "_model_module_version": "1.2.0",
            "_view_count": null,
            "flex_flow": null,
            "width": null,
            "min_width": null,
            "border": null,
            "align_items": null,
            "bottom": null,
            "_model_module": "@jupyter-widgets/base",
            "top": null,
            "grid_column": null,
            "overflow_y": null,
            "overflow_x": null,
            "grid_auto_flow": null,
            "grid_area": null,
            "grid_template_columns": null,
            "flex": null,
            "_model_name": "LayoutModel",
            "justify_items": null,
            "grid_row": null,
            "max_height": null,
            "align_content": null,
            "visibility": null,
            "align_self": null,
            "height": null,
            "min_height": null,
            "padding": null,
            "grid_auto_rows": null,
            "grid_gap": null,
            "max_width": null,
            "order": null,
            "_view_module_version": "1.2.0",
            "grid_template_areas": null,
            "object_position": null,
            "object_fit": null,
            "grid_auto_columns": null,
            "margin": null,
            "display": null,
            "left": null
          }
        },
        "b8c3ac6bfa0746beb11d47efb54b864b": {
          "model_module": "@jupyter-widgets/controls",
          "model_name": "DropdownModel",
          "model_module_version": "1.5.0",
          "state": {
            "_options_labels": [
              "squared_error",
              "friedman_mse",
              "absolute_error",
              "poisson"
            ],
            "_view_name": "DropdownView",
            "style": "IPY_MODEL_8389875b2c5d4505a66108af8e1ace99",
            "_dom_classes": [],
            "description": "crit",
            "_model_name": "DropdownModel",
            "index": 0,
            "_view_module": "@jupyter-widgets/controls",
            "_model_module_version": "1.5.0",
            "_view_count": null,
            "disabled": false,
            "_view_module_version": "1.5.0",
            "description_tooltip": null,
            "_model_module": "@jupyter-widgets/controls",
            "layout": "IPY_MODEL_9aa8be487bb74928beecf257bc15c31b"
          }
        },
        "89e22807bbef4b8f91355b9ab968cca6": {
          "model_module": "@jupyter-widgets/controls",
          "model_name": "DropdownModel",
          "model_module_version": "1.5.0",
          "state": {
            "_options_labels": [
              "best",
              "random"
            ],
            "_view_name": "DropdownView",
            "style": "IPY_MODEL_42a5e7e54baa42cf9d1f5f18cde46913",
            "_dom_classes": [],
            "description": "split",
            "_model_name": "DropdownModel",
            "index": 0,
            "_view_module": "@jupyter-widgets/controls",
            "_model_module_version": "1.5.0",
            "_view_count": null,
            "disabled": false,
            "_view_module_version": "1.5.0",
            "description_tooltip": null,
            "_model_module": "@jupyter-widgets/controls",
            "layout": "IPY_MODEL_856818804be84182bb5a360c189a2a6a"
          }
        },
        "d36961c85ebe47c3b482742721444fc8": {
          "model_module": "@jupyter-widgets/controls",
          "model_name": "DropdownModel",
          "model_module_version": "1.5.0",
          "state": {
            "_options_labels": [
              "1",
              "2",
              "3",
              "4",
              "5",
              "10",
              "20",
              "30"
            ],
            "_view_name": "DropdownView",
            "style": "IPY_MODEL_99afc03ae47d4adb9195d12f2dd28f94",
            "_dom_classes": [],
            "description": "depth",
            "_model_name": "DropdownModel",
            "index": 0,
            "_view_module": "@jupyter-widgets/controls",
            "_model_module_version": "1.5.0",
            "_view_count": null,
            "disabled": false,
            "_view_module_version": "1.5.0",
            "description_tooltip": null,
            "_model_module": "@jupyter-widgets/controls",
            "layout": "IPY_MODEL_6c07b5ab213b4060af01689dade281a2"
          }
        },
        "a935ec2780a948d4b2d6a9e7c377a241": {
          "model_module": "@jupyter-widgets/controls",
          "model_name": "IntSliderModel",
          "model_module_version": "1.5.0",
          "state": {
            "_view_name": "IntSliderView",
            "style": "IPY_MODEL_f2bc53fa6e59404c8e9558a58b37c2a1",
            "_dom_classes": [],
            "description": "min_samples_split",
            "step": 1,
            "_model_name": "IntSliderModel",
            "orientation": "horizontal",
            "max": 15,
            "_view_module": "@jupyter-widgets/controls",
            "_model_module_version": "1.5.0",
            "value": 8,
            "_view_count": null,
            "disabled": false,
            "_view_module_version": "1.5.0",
            "min": 1,
            "continuous_update": true,
            "readout_format": "d",
            "description_tooltip": null,
            "readout": true,
            "_model_module": "@jupyter-widgets/controls",
            "layout": "IPY_MODEL_12c6eb3daad64e76ac4e7c56e93af9bf"
          }
        },
        "794f9ecd48eb40b3b110b11fcde1fd18": {
          "model_module": "@jupyter-widgets/controls",
          "model_name": "IntSliderModel",
          "model_module_version": "1.5.0",
          "state": {
            "_view_name": "IntSliderView",
            "style": "IPY_MODEL_e290548e7aca42b79396e738c6c5796b",
            "_dom_classes": [],
            "description": "min_samples_leaf",
            "step": 1,
            "_model_name": "IntSliderModel",
            "orientation": "horizontal",
            "max": 15,
            "_view_module": "@jupyter-widgets/controls",
            "_model_module_version": "1.5.0",
            "value": 1,
            "_view_count": null,
            "disabled": false,
            "_view_module_version": "1.5.0",
            "min": 1,
            "continuous_update": true,
            "readout_format": "d",
            "description_tooltip": null,
            "readout": true,
            "_model_module": "@jupyter-widgets/controls",
            "layout": "IPY_MODEL_2bbe06b940e246d1b61a4fefffd9420b"
          }
        },
        "81cf7afa7c0c49488ed9161fc56ec1a8": {
          "model_module": "@jupyter-widgets/output",
          "model_name": "OutputModel",
          "model_module_version": "1.0.0",
          "state": {
            "_view_name": "OutputView",
            "msg_id": "",
            "_dom_classes": [],
            "_model_name": "OutputModel",
            "outputs": [
              {
                "output_type": "display_data",
                "data": {
                  "text/plain": "<IPython.core.display.SVG object>",
                  "image/svg+xml": "<svg height=\"165pt\" viewBox=\"0.00 0.00 496.00 165.00\" width=\"496pt\" xmlns=\"http://www.w3.org/2000/svg\" xmlns:xlink=\"http://www.w3.org/1999/xlink\">\n<g class=\"graph\" id=\"graph0\" transform=\"scale(1 1) rotate(0) translate(4 161)\">\n<title>Tree</title>\n<polygon fill=\"#ffffff\" points=\"-4,4 -4,-161 492,-161 492,4 -4,4\" stroke=\"transparent\"/>\n<!-- 0 -->\n<g class=\"node\" id=\"node1\">\n<title>0</title>\n<polygon fill=\"#f9e4d5\" points=\"365,-157 122,-157 122,-89 365,-89 365,-157\" stroke=\"#000000\"/>\n<text fill=\"#000000\" font-family=\"Helvetica,sans-Serif\" font-size=\"14.00\" text-anchor=\"middle\" x=\"243.5\" y=\"-141.8\">median_income &lt;= 5.039</text>\n<text fill=\"#000000\" font-family=\"Helvetica,sans-Serif\" font-size=\"14.00\" text-anchor=\"middle\" x=\"243.5\" y=\"-126.8\">squared_error = 13451442293.569</text>\n<text fill=\"#000000\" font-family=\"Helvetica,sans-Serif\" font-size=\"14.00\" text-anchor=\"middle\" x=\"243.5\" y=\"-111.8\">samples = 17000</text>\n<text fill=\"#000000\" font-family=\"Helvetica,sans-Serif\" font-size=\"14.00\" text-anchor=\"middle\" x=\"243.5\" y=\"-96.8\">value = 207300.912</text>\n</g>\n<!-- 1 -->\n<g class=\"node\" id=\"node2\">\n<title>1</title>\n<polygon fill=\"#ffffff\" points=\"235,-53 0,-53 0,0 235,0 235,-53\" stroke=\"#000000\"/>\n<text fill=\"#000000\" font-family=\"Helvetica,sans-Serif\" font-size=\"14.00\" text-anchor=\"middle\" x=\"117.5\" y=\"-37.8\">squared_error = 8387683654.241</text>\n<text fill=\"#000000\" font-family=\"Helvetica,sans-Serif\" font-size=\"14.00\" text-anchor=\"middle\" x=\"117.5\" y=\"-22.8\">samples = 13355</text>\n<text fill=\"#000000\" font-family=\"Helvetica,sans-Serif\" font-size=\"14.00\" text-anchor=\"middle\" x=\"117.5\" y=\"-7.8\">value = 173339.287</text>\n</g>\n<!-- 0&#45;&gt;1 -->\n<g class=\"edge\" id=\"edge1\">\n<title>0-&gt;1</title>\n<path d=\"M199.0771,-88.9777C186.523,-79.3629 172.8881,-68.9203 160.424,-59.3743\" fill=\"none\" stroke=\"#000000\"/>\n<polygon fill=\"#000000\" points=\"162.4927,-56.5502 152.4255,-53.2485 158.2365,-62.1076 162.4927,-56.5502\" stroke=\"#000000\"/>\n<text fill=\"#000000\" font-family=\"Helvetica,sans-Serif\" font-size=\"14.00\" text-anchor=\"middle\" x=\"155.7113\" y=\"-74.3316\">True</text>\n</g>\n<!-- 2 -->\n<g class=\"node\" id=\"node3\">\n<title>2</title>\n<polygon fill=\"#e58139\" points=\"488,-53 253,-53 253,0 488,0 488,-53\" stroke=\"#000000\"/>\n<text fill=\"#000000\" font-family=\"Helvetica,sans-Serif\" font-size=\"14.00\" text-anchor=\"middle\" x=\"370.5\" y=\"-37.8\">squared_error = 12295206694.69</text>\n<text fill=\"#000000\" font-family=\"Helvetica,sans-Serif\" font-size=\"14.00\" text-anchor=\"middle\" x=\"370.5\" y=\"-22.8\">samples = 3645</text>\n<text fill=\"#000000\" font-family=\"Helvetica,sans-Serif\" font-size=\"14.00\" text-anchor=\"middle\" x=\"370.5\" y=\"-7.8\">value = 331733.7</text>\n</g>\n<!-- 0&#45;&gt;2 -->\n<g class=\"edge\" id=\"edge2\">\n<title>0-&gt;2</title>\n<path d=\"M288.2754,-88.9777C300.9292,-79.3629 314.6723,-68.9203 327.2353,-59.3743\" fill=\"none\" stroke=\"#000000\"/>\n<polygon fill=\"#000000\" points=\"329.4526,-62.0853 335.2973,-53.2485 325.2176,-56.5118 329.4526,-62.0853\" stroke=\"#000000\"/>\n<text fill=\"#000000\" font-family=\"Helvetica,sans-Serif\" font-size=\"14.00\" text-anchor=\"middle\" x=\"331.917\" y=\"-74.3189\">False</text>\n</g>\n</g>\n</svg>"
                },
                "metadata": {}
              }
            ],
            "_view_module": "@jupyter-widgets/output",
            "_model_module_version": "1.0.0",
            "_view_count": null,
            "_view_module_version": "1.0.0",
            "layout": "IPY_MODEL_39d1e370317d4ec28716b0f125040643",
            "_model_module": "@jupyter-widgets/output"
          }
        },
        "8389875b2c5d4505a66108af8e1ace99": {
          "model_module": "@jupyter-widgets/controls",
          "model_name": "DescriptionStyleModel",
          "model_module_version": "1.5.0",
          "state": {
            "_view_name": "StyleView",
            "_model_name": "DescriptionStyleModel",
            "description_width": "",
            "_view_module": "@jupyter-widgets/base",
            "_model_module_version": "1.5.0",
            "_view_count": null,
            "_view_module_version": "1.2.0",
            "_model_module": "@jupyter-widgets/controls"
          }
        },
        "9aa8be487bb74928beecf257bc15c31b": {
          "model_module": "@jupyter-widgets/base",
          "model_name": "LayoutModel",
          "model_module_version": "1.2.0",
          "state": {
            "_view_name": "LayoutView",
            "grid_template_rows": null,
            "right": null,
            "justify_content": null,
            "_view_module": "@jupyter-widgets/base",
            "overflow": null,
            "_model_module_version": "1.2.0",
            "_view_count": null,
            "flex_flow": null,
            "width": null,
            "min_width": null,
            "border": null,
            "align_items": null,
            "bottom": null,
            "_model_module": "@jupyter-widgets/base",
            "top": null,
            "grid_column": null,
            "overflow_y": null,
            "overflow_x": null,
            "grid_auto_flow": null,
            "grid_area": null,
            "grid_template_columns": null,
            "flex": null,
            "_model_name": "LayoutModel",
            "justify_items": null,
            "grid_row": null,
            "max_height": null,
            "align_content": null,
            "visibility": null,
            "align_self": null,
            "height": null,
            "min_height": null,
            "padding": null,
            "grid_auto_rows": null,
            "grid_gap": null,
            "max_width": null,
            "order": null,
            "_view_module_version": "1.2.0",
            "grid_template_areas": null,
            "object_position": null,
            "object_fit": null,
            "grid_auto_columns": null,
            "margin": null,
            "display": null,
            "left": null
          }
        },
        "42a5e7e54baa42cf9d1f5f18cde46913": {
          "model_module": "@jupyter-widgets/controls",
          "model_name": "DescriptionStyleModel",
          "model_module_version": "1.5.0",
          "state": {
            "_view_name": "StyleView",
            "_model_name": "DescriptionStyleModel",
            "description_width": "",
            "_view_module": "@jupyter-widgets/base",
            "_model_module_version": "1.5.0",
            "_view_count": null,
            "_view_module_version": "1.2.0",
            "_model_module": "@jupyter-widgets/controls"
          }
        },
        "856818804be84182bb5a360c189a2a6a": {
          "model_module": "@jupyter-widgets/base",
          "model_name": "LayoutModel",
          "model_module_version": "1.2.0",
          "state": {
            "_view_name": "LayoutView",
            "grid_template_rows": null,
            "right": null,
            "justify_content": null,
            "_view_module": "@jupyter-widgets/base",
            "overflow": null,
            "_model_module_version": "1.2.0",
            "_view_count": null,
            "flex_flow": null,
            "width": null,
            "min_width": null,
            "border": null,
            "align_items": null,
            "bottom": null,
            "_model_module": "@jupyter-widgets/base",
            "top": null,
            "grid_column": null,
            "overflow_y": null,
            "overflow_x": null,
            "grid_auto_flow": null,
            "grid_area": null,
            "grid_template_columns": null,
            "flex": null,
            "_model_name": "LayoutModel",
            "justify_items": null,
            "grid_row": null,
            "max_height": null,
            "align_content": null,
            "visibility": null,
            "align_self": null,
            "height": null,
            "min_height": null,
            "padding": null,
            "grid_auto_rows": null,
            "grid_gap": null,
            "max_width": null,
            "order": null,
            "_view_module_version": "1.2.0",
            "grid_template_areas": null,
            "object_position": null,
            "object_fit": null,
            "grid_auto_columns": null,
            "margin": null,
            "display": null,
            "left": null
          }
        },
        "99afc03ae47d4adb9195d12f2dd28f94": {
          "model_module": "@jupyter-widgets/controls",
          "model_name": "DescriptionStyleModel",
          "model_module_version": "1.5.0",
          "state": {
            "_view_name": "StyleView",
            "_model_name": "DescriptionStyleModel",
            "description_width": "",
            "_view_module": "@jupyter-widgets/base",
            "_model_module_version": "1.5.0",
            "_view_count": null,
            "_view_module_version": "1.2.0",
            "_model_module": "@jupyter-widgets/controls"
          }
        },
        "6c07b5ab213b4060af01689dade281a2": {
          "model_module": "@jupyter-widgets/base",
          "model_name": "LayoutModel",
          "model_module_version": "1.2.0",
          "state": {
            "_view_name": "LayoutView",
            "grid_template_rows": null,
            "right": null,
            "justify_content": null,
            "_view_module": "@jupyter-widgets/base",
            "overflow": null,
            "_model_module_version": "1.2.0",
            "_view_count": null,
            "flex_flow": null,
            "width": null,
            "min_width": null,
            "border": null,
            "align_items": null,
            "bottom": null,
            "_model_module": "@jupyter-widgets/base",
            "top": null,
            "grid_column": null,
            "overflow_y": null,
            "overflow_x": null,
            "grid_auto_flow": null,
            "grid_area": null,
            "grid_template_columns": null,
            "flex": null,
            "_model_name": "LayoutModel",
            "justify_items": null,
            "grid_row": null,
            "max_height": null,
            "align_content": null,
            "visibility": null,
            "align_self": null,
            "height": null,
            "min_height": null,
            "padding": null,
            "grid_auto_rows": null,
            "grid_gap": null,
            "max_width": null,
            "order": null,
            "_view_module_version": "1.2.0",
            "grid_template_areas": null,
            "object_position": null,
            "object_fit": null,
            "grid_auto_columns": null,
            "margin": null,
            "display": null,
            "left": null
          }
        },
        "f2bc53fa6e59404c8e9558a58b37c2a1": {
          "model_module": "@jupyter-widgets/controls",
          "model_name": "SliderStyleModel",
          "model_module_version": "1.5.0",
          "state": {
            "_view_name": "StyleView",
            "handle_color": null,
            "_model_name": "SliderStyleModel",
            "description_width": "",
            "_view_module": "@jupyter-widgets/base",
            "_model_module_version": "1.5.0",
            "_view_count": null,
            "_view_module_version": "1.2.0",
            "_model_module": "@jupyter-widgets/controls"
          }
        },
        "12c6eb3daad64e76ac4e7c56e93af9bf": {
          "model_module": "@jupyter-widgets/base",
          "model_name": "LayoutModel",
          "model_module_version": "1.2.0",
          "state": {
            "_view_name": "LayoutView",
            "grid_template_rows": null,
            "right": null,
            "justify_content": null,
            "_view_module": "@jupyter-widgets/base",
            "overflow": null,
            "_model_module_version": "1.2.0",
            "_view_count": null,
            "flex_flow": null,
            "width": null,
            "min_width": null,
            "border": null,
            "align_items": null,
            "bottom": null,
            "_model_module": "@jupyter-widgets/base",
            "top": null,
            "grid_column": null,
            "overflow_y": null,
            "overflow_x": null,
            "grid_auto_flow": null,
            "grid_area": null,
            "grid_template_columns": null,
            "flex": null,
            "_model_name": "LayoutModel",
            "justify_items": null,
            "grid_row": null,
            "max_height": null,
            "align_content": null,
            "visibility": null,
            "align_self": null,
            "height": null,
            "min_height": null,
            "padding": null,
            "grid_auto_rows": null,
            "grid_gap": null,
            "max_width": null,
            "order": null,
            "_view_module_version": "1.2.0",
            "grid_template_areas": null,
            "object_position": null,
            "object_fit": null,
            "grid_auto_columns": null,
            "margin": null,
            "display": null,
            "left": null
          }
        },
        "e290548e7aca42b79396e738c6c5796b": {
          "model_module": "@jupyter-widgets/controls",
          "model_name": "SliderStyleModel",
          "model_module_version": "1.5.0",
          "state": {
            "_view_name": "StyleView",
            "handle_color": null,
            "_model_name": "SliderStyleModel",
            "description_width": "",
            "_view_module": "@jupyter-widgets/base",
            "_model_module_version": "1.5.0",
            "_view_count": null,
            "_view_module_version": "1.2.0",
            "_model_module": "@jupyter-widgets/controls"
          }
        },
        "2bbe06b940e246d1b61a4fefffd9420b": {
          "model_module": "@jupyter-widgets/base",
          "model_name": "LayoutModel",
          "model_module_version": "1.2.0",
          "state": {
            "_view_name": "LayoutView",
            "grid_template_rows": null,
            "right": null,
            "justify_content": null,
            "_view_module": "@jupyter-widgets/base",
            "overflow": null,
            "_model_module_version": "1.2.0",
            "_view_count": null,
            "flex_flow": null,
            "width": null,
            "min_width": null,
            "border": null,
            "align_items": null,
            "bottom": null,
            "_model_module": "@jupyter-widgets/base",
            "top": null,
            "grid_column": null,
            "overflow_y": null,
            "overflow_x": null,
            "grid_auto_flow": null,
            "grid_area": null,
            "grid_template_columns": null,
            "flex": null,
            "_model_name": "LayoutModel",
            "justify_items": null,
            "grid_row": null,
            "max_height": null,
            "align_content": null,
            "visibility": null,
            "align_self": null,
            "height": null,
            "min_height": null,
            "padding": null,
            "grid_auto_rows": null,
            "grid_gap": null,
            "max_width": null,
            "order": null,
            "_view_module_version": "1.2.0",
            "grid_template_areas": null,
            "object_position": null,
            "object_fit": null,
            "grid_auto_columns": null,
            "margin": null,
            "display": null,
            "left": null
          }
        },
        "39d1e370317d4ec28716b0f125040643": {
          "model_module": "@jupyter-widgets/base",
          "model_name": "LayoutModel",
          "model_module_version": "1.2.0",
          "state": {
            "_view_name": "LayoutView",
            "grid_template_rows": null,
            "right": null,
            "justify_content": null,
            "_view_module": "@jupyter-widgets/base",
            "overflow": null,
            "_model_module_version": "1.2.0",
            "_view_count": null,
            "flex_flow": null,
            "width": null,
            "min_width": null,
            "border": null,
            "align_items": null,
            "bottom": null,
            "_model_module": "@jupyter-widgets/base",
            "top": null,
            "grid_column": null,
            "overflow_y": null,
            "overflow_x": null,
            "grid_auto_flow": null,
            "grid_area": null,
            "grid_template_columns": null,
            "flex": null,
            "_model_name": "LayoutModel",
            "justify_items": null,
            "grid_row": null,
            "max_height": null,
            "align_content": null,
            "visibility": null,
            "align_self": null,
            "height": null,
            "min_height": null,
            "padding": null,
            "grid_auto_rows": null,
            "grid_gap": null,
            "max_width": null,
            "order": null,
            "_view_module_version": "1.2.0",
            "grid_template_areas": null,
            "object_position": null,
            "object_fit": null,
            "grid_auto_columns": null,
            "margin": null,
            "display": null,
            "left": null
          }
        }
      }
    }
  },
  "cells": [
    {
      "cell_type": "markdown",
      "metadata": {
        "id": "view-in-github",
        "colab_type": "text"
      },
      "source": [
        "<a href=\"https://colab.research.google.com/github/FGalvao77/Arvores-e-Ensembles-de-Machine-Learning-Scikit-learn-/blob/main/%C3%81rvores_e_Ensembles_de_Machine_Learning_(Scikit_learn%2B).ipynb\" target=\"_parent\"><img src=\"https://colab.research.google.com/assets/colab-badge.svg\" alt=\"Open In Colab\"/></a>"
      ]
    },
    {
      "cell_type": "markdown",
      "metadata": {
        "id": "TfcpenG_aisi"
      },
      "source": [
        "# **Árvores e Ensembles de Machine Learning (Scikit-learn+)**\n",
        "\n",
        "---\n",
        "\n"
      ]
    },
    {
      "cell_type": "markdown",
      "metadata": {
        "id": "Qa3QNp_-OYtt"
      },
      "source": [
        "Vamos entender como funciona as `árvores de decisão` e, como melhor utilizá-las `tunando` alguns parâmetros."
      ]
    },
    {
      "cell_type": "markdown",
      "metadata": {
        "id": "bvRkGNpPPii9"
      },
      "source": [
        "### **Decision Trees na Prática (Scikit-learn / Python)**\n",
        "\n",
        "\n"
      ]
    },
    {
      "cell_type": "markdown",
      "metadata": {
        "id": "5EObVNIWey_i"
      },
      "source": [
        "- [Documentação](https://scikit-learn.org/stable/modules/generated/sklearn.tree.DecisionTreeRegressor.html?highlight=decisiontree#sklearn.tree.DecisionTreeRegressor)"
      ]
    },
    {
      "cell_type": "markdown",
      "metadata": {
        "id": "dKTuDcdfTMQ5"
      },
      "source": [
        "**Importando as bibliotecas**"
      ]
    },
    {
      "cell_type": "code",
      "metadata": {
        "colab": {
          "base_uri": "https://localhost:8080/"
        },
        "id": "PIRoGu1lPrCW",
        "outputId": "e7cddc49-24be-40c7-aba5-fd45ec6157cc"
      },
      "source": [
        "# bibliotecas necessárias\n",
        "import pandas as pd     # para modelagem de dados                 \n",
        "import numpy as np      # para modelagem matemática\n",
        "\n",
        "# para auxiliar visualização gráfica\n",
        "%pylab inline"
      ],
      "execution_count": null,
      "outputs": [
        {
          "output_type": "stream",
          "name": "stdout",
          "text": [
            "Populating the interactive namespace from numpy and matplotlib\n"
          ]
        }
      ]
    },
    {
      "cell_type": "markdown",
      "metadata": {
        "id": "i105xzJwTTLX"
      },
      "source": [
        "**Carregando o conjunto de dados**"
      ]
    },
    {
      "cell_type": "code",
      "metadata": {
        "id": "y-znwyQRPrAJ"
      },
      "source": [
        "# importando o conjunto de dados\n",
        "data = pd.read_csv('/content/sample_data/california_housing_train.csv')"
      ],
      "execution_count": null,
      "outputs": []
    },
    {
      "cell_type": "markdown",
      "metadata": {
        "id": "HPiK4a1HTYdb"
      },
      "source": [
        "**Análise exploratória do conjunto de dados**"
      ]
    },
    {
      "cell_type": "code",
      "metadata": {
        "colab": {
          "base_uri": "https://localhost:8080/",
          "height": 206
        },
        "id": "-ofqosE1Pq9j",
        "outputId": "30c923d5-926d-4064-dad3-bef06f73a5cc"
      },
      "source": [
        "# visualizando as 5 primeiras linhas\n",
        "data.head()"
      ],
      "execution_count": null,
      "outputs": [
        {
          "output_type": "execute_result",
          "data": {
            "text/html": [
              "<div>\n",
              "<style scoped>\n",
              "    .dataframe tbody tr th:only-of-type {\n",
              "        vertical-align: middle;\n",
              "    }\n",
              "\n",
              "    .dataframe tbody tr th {\n",
              "        vertical-align: top;\n",
              "    }\n",
              "\n",
              "    .dataframe thead th {\n",
              "        text-align: right;\n",
              "    }\n",
              "</style>\n",
              "<table border=\"1\" class=\"dataframe\">\n",
              "  <thead>\n",
              "    <tr style=\"text-align: right;\">\n",
              "      <th></th>\n",
              "      <th>longitude</th>\n",
              "      <th>latitude</th>\n",
              "      <th>housing_median_age</th>\n",
              "      <th>total_rooms</th>\n",
              "      <th>total_bedrooms</th>\n",
              "      <th>population</th>\n",
              "      <th>households</th>\n",
              "      <th>median_income</th>\n",
              "      <th>median_house_value</th>\n",
              "    </tr>\n",
              "  </thead>\n",
              "  <tbody>\n",
              "    <tr>\n",
              "      <th>0</th>\n",
              "      <td>-114.31</td>\n",
              "      <td>34.19</td>\n",
              "      <td>15.0</td>\n",
              "      <td>5612.0</td>\n",
              "      <td>1283.0</td>\n",
              "      <td>1015.0</td>\n",
              "      <td>472.0</td>\n",
              "      <td>1.4936</td>\n",
              "      <td>66900.0</td>\n",
              "    </tr>\n",
              "    <tr>\n",
              "      <th>1</th>\n",
              "      <td>-114.47</td>\n",
              "      <td>34.40</td>\n",
              "      <td>19.0</td>\n",
              "      <td>7650.0</td>\n",
              "      <td>1901.0</td>\n",
              "      <td>1129.0</td>\n",
              "      <td>463.0</td>\n",
              "      <td>1.8200</td>\n",
              "      <td>80100.0</td>\n",
              "    </tr>\n",
              "    <tr>\n",
              "      <th>2</th>\n",
              "      <td>-114.56</td>\n",
              "      <td>33.69</td>\n",
              "      <td>17.0</td>\n",
              "      <td>720.0</td>\n",
              "      <td>174.0</td>\n",
              "      <td>333.0</td>\n",
              "      <td>117.0</td>\n",
              "      <td>1.6509</td>\n",
              "      <td>85700.0</td>\n",
              "    </tr>\n",
              "    <tr>\n",
              "      <th>3</th>\n",
              "      <td>-114.57</td>\n",
              "      <td>33.64</td>\n",
              "      <td>14.0</td>\n",
              "      <td>1501.0</td>\n",
              "      <td>337.0</td>\n",
              "      <td>515.0</td>\n",
              "      <td>226.0</td>\n",
              "      <td>3.1917</td>\n",
              "      <td>73400.0</td>\n",
              "    </tr>\n",
              "    <tr>\n",
              "      <th>4</th>\n",
              "      <td>-114.57</td>\n",
              "      <td>33.57</td>\n",
              "      <td>20.0</td>\n",
              "      <td>1454.0</td>\n",
              "      <td>326.0</td>\n",
              "      <td>624.0</td>\n",
              "      <td>262.0</td>\n",
              "      <td>1.9250</td>\n",
              "      <td>65500.0</td>\n",
              "    </tr>\n",
              "  </tbody>\n",
              "</table>\n",
              "</div>"
            ],
            "text/plain": [
              "   longitude  latitude  ...  median_income  median_house_value\n",
              "0    -114.31     34.19  ...         1.4936             66900.0\n",
              "1    -114.47     34.40  ...         1.8200             80100.0\n",
              "2    -114.56     33.69  ...         1.6509             85700.0\n",
              "3    -114.57     33.64  ...         3.1917             73400.0\n",
              "4    -114.57     33.57  ...         1.9250             65500.0\n",
              "\n",
              "[5 rows x 9 columns]"
            ]
          },
          "metadata": {},
          "execution_count": 3
        }
      ]
    },
    {
      "cell_type": "code",
      "metadata": {
        "colab": {
          "base_uri": "https://localhost:8080/"
        },
        "id": "Ew3ewXK5RHrF",
        "outputId": "6a924c3b-3574-4d5b-b0c9-3848e7957e8b"
      },
      "source": [
        "# dimensão do conjunto de dados\n",
        "data.shape      # linhas e colunas"
      ],
      "execution_count": null,
      "outputs": [
        {
          "output_type": "execute_result",
          "data": {
            "text/plain": [
              "(17000, 9)"
            ]
          },
          "metadata": {},
          "execution_count": 4
        }
      ]
    },
    {
      "cell_type": "code",
      "metadata": {
        "colab": {
          "base_uri": "https://localhost:8080/"
        },
        "id": "jat2nB-XRKkg",
        "outputId": "0cbbb41a-5b5e-4913-b220-5e11ae93bcdc"
      },
      "source": [
        "# informações gerais\n",
        "data.info()"
      ],
      "execution_count": null,
      "outputs": [
        {
          "output_type": "stream",
          "name": "stdout",
          "text": [
            "<class 'pandas.core.frame.DataFrame'>\n",
            "RangeIndex: 17000 entries, 0 to 16999\n",
            "Data columns (total 9 columns):\n",
            " #   Column              Non-Null Count  Dtype  \n",
            "---  ------              --------------  -----  \n",
            " 0   longitude           17000 non-null  float64\n",
            " 1   latitude            17000 non-null  float64\n",
            " 2   housing_median_age  17000 non-null  float64\n",
            " 3   total_rooms         17000 non-null  float64\n",
            " 4   total_bedrooms      17000 non-null  float64\n",
            " 5   population          17000 non-null  float64\n",
            " 6   households          17000 non-null  float64\n",
            " 7   median_income       17000 non-null  float64\n",
            " 8   median_house_value  17000 non-null  float64\n",
            "dtypes: float64(9)\n",
            "memory usage: 1.2 MB\n"
          ]
        }
      ]
    },
    {
      "cell_type": "code",
      "metadata": {
        "colab": {
          "base_uri": "https://localhost:8080/"
        },
        "id": "Yj4Fol8T0AiH",
        "outputId": "e5678e81-3e7e-4256-d11e-e33ce2ec6aa0"
      },
      "source": [
        "# contabilizando as instâncias únicas dos atributos\n",
        "data.nunique()"
      ],
      "execution_count": null,
      "outputs": [
        {
          "output_type": "execute_result",
          "data": {
            "text/plain": [
              "longitude               827\n",
              "latitude                840\n",
              "housing_median_age       52\n",
              "total_rooms            5533\n",
              "total_bedrooms         1848\n",
              "population             3683\n",
              "households             1740\n",
              "median_income         11175\n",
              "median_house_value     3694\n",
              "dtype: int64"
            ]
          },
          "metadata": {},
          "execution_count": 6
        }
      ]
    },
    {
      "cell_type": "code",
      "metadata": {
        "colab": {
          "base_uri": "https://localhost:8080/"
        },
        "id": "I7vQjr0OPq02",
        "outputId": "6ea38edc-e723-492e-ca49-3d3ba8d88ee3"
      },
      "source": [
        "# contabilizando as frequências das instâncias únicas do atributo alvo\n",
        "data['median_house_value'].value_counts().head(20)  # as 20 primeiras instâncias"
      ],
      "execution_count": null,
      "outputs": [
        {
          "output_type": "execute_result",
          "data": {
            "text/plain": [
              "500001.0    814\n",
              "137500.0     95\n",
              "162500.0     89\n",
              "112500.0     85\n",
              "187500.0     74\n",
              "225000.0     73\n",
              "87500.0      64\n",
              "350000.0     64\n",
              "150000.0     52\n",
              "67500.0      51\n",
              "275000.0     51\n",
              "175000.0     49\n",
              "100000.0     48\n",
              "125000.0     45\n",
              "250000.0     39\n",
              "200000.0     37\n",
              "118800.0     35\n",
              "450000.0     29\n",
              "300000.0     28\n",
              "193800.0     27\n",
              "Name: median_house_value, dtype: int64"
            ]
          },
          "metadata": {},
          "execution_count": 7
        }
      ]
    },
    {
      "cell_type": "markdown",
      "metadata": {
        "id": "Kx-Faxh2TjHO"
      },
      "source": [
        "**Pré-processamento dos dados**"
      ]
    },
    {
      "cell_type": "code",
      "metadata": {
        "id": "oUE-hyczPq7x"
      },
      "source": [
        "# importando as bibliotecas\n",
        "from sklearn.tree import DecisionTreeRegressor, plot_tree   # modelo de árvore de decisão - regressão e visualização da árvore\n",
        "from sklearn.model_selection import train_test_split        # para particionamento dos dados - treino e validação\n",
        "from sklearn.metrics import mean_squared_error              # métrica de avalição do modelo - erro média quadrático"
      ],
      "execution_count": null,
      "outputs": []
    },
    {
      "cell_type": "code",
      "metadata": {
        "id": "SWCtcPoXPq6X"
      },
      "source": [
        "# instanciando as variáveis explicativas (X) e a resposta (y)\n",
        "X = data.drop('median_house_value', axis=1)\n",
        "y = data['median_house_value']"
      ],
      "execution_count": null,
      "outputs": []
    },
    {
      "cell_type": "code",
      "metadata": {
        "id": "gEMLz57SPq5D"
      },
      "source": [
        "# particionando os dados em treino e validação\n",
        "X_train, X_val, y_train, y_val = train_test_split(X, y, \n",
        "                                                  train_size=0.6,   # 60% para treino e, o restante 40% para validação do modelo\n",
        "                                                  random_state=42)  # parâmetro de repetibilidade"
      ],
      "execution_count": null,
      "outputs": []
    },
    {
      "cell_type": "code",
      "metadata": {
        "colab": {
          "base_uri": "https://localhost:8080/"
        },
        "id": "-LB5ZKBlPq3w",
        "outputId": "6ef4d0fe-d0d2-4191-ad57-918a152d9604"
      },
      "source": [
        "# dimensão dos particionamento dos dados\n",
        "X_train.shape, X_val.shape, y_train.shape, y_val.shape"
      ],
      "execution_count": null,
      "outputs": [
        {
          "output_type": "execute_result",
          "data": {
            "text/plain": [
              "((10200, 8), (6800, 8), (10200,), (6800,))"
            ]
          },
          "metadata": {},
          "execution_count": 11
        }
      ]
    },
    {
      "cell_type": "markdown",
      "metadata": {
        "id": "2ft_5LAEToQb"
      },
      "source": [
        "**Aplicando o modelo de árvore de decisão**"
      ]
    },
    {
      "cell_type": "markdown",
      "metadata": {
        "id": "bp_Qpo8eTwJB"
      },
      "source": [
        "Segue as etapas:\n",
        "- aplicar um modelo básico (baseline);\n",
        "- realizar as predições;\n",
        "- avaliar e,\n",
        "- por fim, visualizar a árvore graficamente.\n",
        "\n",
        "E a partir do modelo `baseline`, iremos tentar melhor a perfomance do modelo aumentando a sua profundidade e, avaliando o resultado e, assim sucessivamente até encontrar o modelo \"ideal\". "
      ]
    },
    {
      "cell_type": "code",
      "metadata": {
        "colab": {
          "base_uri": "https://localhost:8080/"
        },
        "id": "549Qjms7Pqx3",
        "outputId": "68a28835-5b79-402c-9733-3b222f65bd8f"
      },
      "source": [
        "# começaremos com profundidade de 2 níveis (max_depth=2) e o parâmetro de repetibilidade (random_state=42)\n",
        "dec_tree1 = DecisionTreeRegressor(max_depth=2, random_state=42) \n",
        "dec_tree1.fit(X_train, y_train)"
      ],
      "execution_count": null,
      "outputs": [
        {
          "output_type": "execute_result",
          "data": {
            "text/plain": [
              "DecisionTreeRegressor(max_depth=2, random_state=42)"
            ]
          },
          "metadata": {},
          "execution_count": 12
        }
      ]
    },
    {
      "cell_type": "code",
      "metadata": {
        "colab": {
          "base_uri": "https://localhost:8080/"
        },
        "id": "4laVwu2CSvHu",
        "outputId": "b0f628d6-0a93-4e0a-c933-a624d99b4b9f"
      },
      "source": [
        "# realizando as predições com o modelo nos dados de validação\n",
        "pred = dec_tree1.predict(X_val)\n",
        "pred[:10]   # visualizando as 10 primeiras predições"
      ],
      "execution_count": null,
      "outputs": [
        {
          "output_type": "execute_result",
          "data": {
            "text/plain": [
              "array([218709.71251129, 432569.3537415 , 138258.46534422, 218709.71251129,\n",
              "       138258.46534422, 218709.71251129, 138258.46534422, 138258.46534422,\n",
              "       316320.32703003, 218709.71251129])"
            ]
          },
          "metadata": {},
          "execution_count": 13
        }
      ]
    },
    {
      "cell_type": "code",
      "metadata": {
        "colab": {
          "base_uri": "https://localhost:8080/"
        },
        "id": "kyhwJwKhPqtz",
        "outputId": "d374b47c-8c28-4177-cb9f-a5a7d3a3d051"
      },
      "source": [
        "# visualizando o erro médio quadrático das predições VS dados de y_val\n",
        "np.sqrt(mean_squared_error(pred, y_val))"
      ],
      "execution_count": null,
      "outputs": [
        {
          "output_type": "execute_result",
          "data": {
            "text/plain": [
              "87325.93595519461"
            ]
          },
          "metadata": {},
          "execution_count": 14
        }
      ]
    },
    {
      "cell_type": "code",
      "metadata": {
        "colab": {
          "base_uri": "https://localhost:8080/",
          "height": 411
        },
        "id": "NjmrG_8bS4j4",
        "outputId": "c710a91d-b23e-4ecb-a1cd-cd1d7d6a53ac"
      },
      "source": [
        "# plotando a árvore com dois níveis de profundidade\n",
        "pylab.figure(figsize=[15, 7])   # tamanho da figura\n",
        "plot_tree(dec_tree1, feature_names=X_train.columns);     # modelo e exibindo o nome dos atributos"
      ],
      "execution_count": null,
      "outputs": [
        {
          "output_type": "display_data",
          "data": {
            "image/png": "[encoded data removed]",
            "text/plain": [
              "<Figure size 1080x504 with 1 Axes>"
            ]
          },
          "metadata": {
            "needs_background": "light"
          }
        }
      ]
    },
    {
      "cell_type": "code",
      "metadata": {
        "colab": {
          "base_uri": "https://localhost:8080/"
        },
        "id": "ItSbaQloPqpu",
        "outputId": "be8c20e3-0821-40fc-c79e-d36ba3638975"
      },
      "source": [
        "# modelo com três níveis de profundidade e visualizando o resultado\n",
        "dec_tree2 = DecisionTreeRegressor(max_depth=3, random_state=42)\n",
        "dec_tree2.fit(X_train, y_train)\n",
        "\n",
        "pred = dec_tree2.predict(X_val)\n",
        "np.sqrt(mean_squared_error(y_val, pred))"
      ],
      "execution_count": null,
      "outputs": [
        {
          "output_type": "execute_result",
          "data": {
            "text/plain": [
              "83615.03102765353"
            ]
          },
          "metadata": {},
          "execution_count": 16
        }
      ]
    },
    {
      "cell_type": "code",
      "metadata": {
        "colab": {
          "base_uri": "https://localhost:8080/",
          "height": 846
        },
        "id": "Kaxm1bNyXzYz",
        "outputId": "c7ec74c1-4858-4305-8d93-dd32455e5f5d"
      },
      "source": [
        "# plotando a árvore com três níveis de profundidade\n",
        "pylab.figure(figsize=[22, 15])   # tamanho da figura\n",
        "plot_tree(dec_tree2, feature_names=X_train.columns);     # modelo e exibindo o nome dos atributos"
      ],
      "execution_count": null,
      "outputs": [
        {
          "output_type": "display_data",
          "data": {
            "image/png": "[encoded data removed]",
            "text/plain": [
              "<Figure size 1584x1080 with 1 Axes>"
            ]
          },
          "metadata": {
            "needs_background": "light"
          }
        }
      ]
    },
    {
      "cell_type": "code",
      "metadata": {
        "colab": {
          "base_uri": "https://localhost:8080/"
        },
        "id": "D6kTCCrGPThD",
        "outputId": "e73fd06f-86e2-47e7-dc9a-f0f622478584"
      },
      "source": [
        "# modelo com cinco níveis de profundidade e visualizando o resultado\n",
        "dec_tree3 = DecisionTreeRegressor(max_depth=5, random_state=42)\n",
        "dec_tree3.fit(X_train, y_train)\n",
        "\n",
        "pred = dec_tree3.predict(X_val)\n",
        "np.sqrt(mean_squared_error(y_val, pred))"
      ],
      "execution_count": null,
      "outputs": [
        {
          "output_type": "execute_result",
          "data": {
            "text/plain": [
              "74357.49876918188"
            ]
          },
          "metadata": {},
          "execution_count": 18
        }
      ]
    },
    {
      "cell_type": "markdown",
      "metadata": {
        "id": "dPy1zsbbYZGZ"
      },
      "source": [
        "> A partir desta árvore, não irei mais plotar a visualização gráfica. Já que a figura se torna imensa e, teremos dificuldades em visualizar a árvore."
      ]
    },
    {
      "cell_type": "code",
      "metadata": {
        "colab": {
          "base_uri": "https://localhost:8080/"
        },
        "id": "sQuqrDKvXp1N",
        "outputId": "84198990-0b3a-47de-802d-28482e6e0bfc"
      },
      "source": [
        "# modelo com oito níveis de profundidade e visualizando o resultado\n",
        "dec_tree4 = DecisionTreeRegressor(max_depth=8, random_state=42)\n",
        "dec_tree4.fit(X_train, y_train)\n",
        "\n",
        "pred = dec_tree4.predict(X_val)\n",
        "np.sqrt(mean_squared_error(y_val, pred))"
      ],
      "execution_count": null,
      "outputs": [
        {
          "output_type": "execute_result",
          "data": {
            "text/plain": [
              "63421.08420351452"
            ]
          },
          "metadata": {},
          "execution_count": 19
        }
      ]
    },
    {
      "cell_type": "code",
      "metadata": {
        "colab": {
          "base_uri": "https://localhost:8080/"
        },
        "id": "iLzaqFcCXp0E",
        "outputId": "255c8768-b735-4501-bbad-9240f988bd5e"
      },
      "source": [
        "# modelo com onze níveis de profundidade e visualizando o resultado\n",
        "dec_tree5 = DecisionTreeRegressor(max_depth=11, random_state=42)\n",
        "dec_tree5.fit(X_train, y_train)\n",
        "\n",
        "pred = dec_tree5.predict(X_val)\n",
        "np.sqrt(mean_squared_error(y_val, pred))"
      ],
      "execution_count": null,
      "outputs": [
        {
          "output_type": "execute_result",
          "data": {
            "text/plain": [
              "64449.86217538393"
            ]
          },
          "metadata": {},
          "execution_count": 20
        }
      ]
    },
    {
      "cell_type": "code",
      "metadata": {
        "colab": {
          "base_uri": "https://localhost:8080/"
        },
        "id": "c_5XGL5nX32C",
        "outputId": "a1da0b7c-3fea-4bf0-b18d-430c3fb48df4"
      },
      "source": [
        "# modelo com treze níveis de profundidade e visualizando o resultado\n",
        "dec_tree6 = DecisionTreeRegressor(max_depth=13, random_state=42)\n",
        "dec_tree6.fit(X_train, y_train)\n",
        "\n",
        "pred = dec_tree6.predict(X_val)\n",
        "np.sqrt(mean_squared_error(y_val, pred))"
      ],
      "execution_count": null,
      "outputs": [
        {
          "output_type": "execute_result",
          "data": {
            "text/plain": [
              "65813.92356467734"
            ]
          },
          "metadata": {},
          "execution_count": 21
        }
      ]
    },
    {
      "cell_type": "markdown",
      "metadata": {
        "id": "SZTGGpPHaikj"
      },
      "source": [
        "> Veja que, a última árvore com 13 níveis foi pior que a anterior de 11 e essa também foi pior que com 8 níveis, pórem essa foi melhor que anterior de 5 níveis de profundidade.\n",
        "\n",
        "Portanto temos o melhor modelo com `max_depth=8`."
      ]
    },
    {
      "cell_type": "markdown",
      "metadata": {
        "id": "uRmDeABabPbX"
      },
      "source": [
        "Vamos explorar outro parâmetro o `min_samples_leaf` que entrega resultados interessantes.\n",
        "- esse parâmetro garante o mínimo de amostras em cada folha/nó."
      ]
    },
    {
      "cell_type": "code",
      "metadata": {
        "colab": {
          "base_uri": "https://localhost:8080/"
        },
        "id": "4npImlszXpqS",
        "outputId": "342729f5-eb79-42d6-9e87-f142883c868a"
      },
      "source": [
        "# modelo com uma amostra em cada folha/nó e visualizando o resultado\n",
        "dec_tree7 = DecisionTreeRegressor(min_samples_leaf=1, random_state=42)\n",
        "dec_tree7.fit(X_train, y_train)\n",
        "\n",
        "pred = dec_tree7.predict(X_val)\n",
        "np.sqrt(mean_squared_error(y_val, pred))"
      ],
      "execution_count": null,
      "outputs": [
        {
          "output_type": "execute_result",
          "data": {
            "text/plain": [
              "68593.11022262968"
            ]
          },
          "metadata": {},
          "execution_count": 22
        }
      ]
    },
    {
      "cell_type": "code",
      "metadata": {
        "colab": {
          "base_uri": "https://localhost:8080/"
        },
        "id": "NQJn1Xm8XpoH",
        "outputId": "59df0160-eec4-41d6-86d8-b54e093dd2fd"
      },
      "source": [
        "# modelo com duas amostras em cada folha/nó e visualizando o resultado\n",
        "dec_tree8 = DecisionTreeRegressor(min_samples_leaf=2, random_state=42)\n",
        "dec_tree8.fit(X_train, y_train)\n",
        "\n",
        "pred = dec_tree8.predict(X_val)\n",
        "np.sqrt(mean_squared_error(y_val, pred))"
      ],
      "execution_count": null,
      "outputs": [
        {
          "output_type": "execute_result",
          "data": {
            "text/plain": [
              "64884.91787320764"
            ]
          },
          "metadata": {},
          "execution_count": 23
        }
      ]
    },
    {
      "cell_type": "code",
      "metadata": {
        "colab": {
          "base_uri": "https://localhost:8080/"
        },
        "id": "KhyFhfPeXplX",
        "outputId": "20655a96-0fc8-4247-a5e3-8782028bc6eb"
      },
      "source": [
        "# modelo com três amostras em cada folha/nó e visualizando o resultado\n",
        "dec_tree9 = DecisionTreeRegressor(min_samples_leaf=3, random_state=42)\n",
        "dec_tree9.fit(X_train, y_train)\n",
        "\n",
        "pred = dec_tree9.predict(X_val)\n",
        "np.sqrt(mean_squared_error(y_val, pred))"
      ],
      "execution_count": null,
      "outputs": [
        {
          "output_type": "execute_result",
          "data": {
            "text/plain": [
              "63318.65702031331"
            ]
          },
          "metadata": {},
          "execution_count": 24
        }
      ]
    },
    {
      "cell_type": "code",
      "metadata": {
        "colab": {
          "base_uri": "https://localhost:8080/"
        },
        "id": "3XMwlF-jXpdw",
        "outputId": "5ce8b85e-3399-4730-9b41-0ca5c33bbee3"
      },
      "source": [
        "# modelo com cinco amostras em cada folha/nó e visualizando o resultado\n",
        "dec_tree10 = DecisionTreeRegressor(min_samples_leaf=5, random_state=42)\n",
        "dec_tree10.fit(X_train, y_train)\n",
        "\n",
        "pred = dec_tree10.predict(X_val)\n",
        "np.sqrt(mean_squared_error(y_val, pred))"
      ],
      "execution_count": null,
      "outputs": [
        {
          "output_type": "execute_result",
          "data": {
            "text/plain": [
              "61141.37932304896"
            ]
          },
          "metadata": {},
          "execution_count": 25
        }
      ]
    },
    {
      "cell_type": "code",
      "metadata": {
        "colab": {
          "base_uri": "https://localhost:8080/"
        },
        "id": "aoKRCAXrYpki",
        "outputId": "da622034-d1b4-4176-ac72-d77f564b1ccd"
      },
      "source": [
        "# modelo com oito amostras em cada folha/nó e visualizando o resultado\n",
        "dec_tree11 = DecisionTreeRegressor(min_samples_leaf=8, random_state=42)\n",
        "dec_tree11.fit(X_train, y_train)\n",
        "\n",
        "pred = dec_tree11.predict(X_val)\n",
        "np.sqrt(mean_squared_error(y_val, pred))"
      ],
      "execution_count": null,
      "outputs": [
        {
          "output_type": "execute_result",
          "data": {
            "text/plain": [
              "59527.870120792744"
            ]
          },
          "metadata": {},
          "execution_count": 26
        }
      ]
    },
    {
      "cell_type": "code",
      "metadata": {
        "colab": {
          "base_uri": "https://localhost:8080/"
        },
        "id": "Zo_PaCRoYpir",
        "outputId": "75312eee-1ac6-4e9e-a016-fed10746d4bd"
      },
      "source": [
        "# modelo com nove amostras em cada folha/nó e visualizando o resultado\n",
        "dec_tree12 = DecisionTreeRegressor(min_samples_leaf=9, random_state=42)\n",
        "dec_tree12.fit(X_train, y_train)\n",
        "\n",
        "pred = dec_tree12.predict(X_val)\n",
        "np.sqrt(mean_squared_error(y_val, pred))"
      ],
      "execution_count": null,
      "outputs": [
        {
          "output_type": "execute_result",
          "data": {
            "text/plain": [
              "58615.36699284045"
            ]
          },
          "metadata": {},
          "execution_count": 27
        }
      ]
    },
    {
      "cell_type": "code",
      "metadata": {
        "colab": {
          "base_uri": "https://localhost:8080/"
        },
        "id": "qfdj3OXZiOB8",
        "outputId": "c887ea40-7d89-4800-c9e5-d8b4df29718b"
      },
      "source": [
        "# modelo com treze amostras em cada folha/nó e visualizando o resultado\n",
        "dec_tree13 = DecisionTreeRegressor(min_samples_leaf=13, random_state=42)\n",
        "dec_tree13.fit(X_train, y_train)\n",
        "\n",
        "pred = dec_tree13.predict(X_val)\n",
        "np.sqrt(mean_squared_error(y_val, pred))"
      ],
      "execution_count": null,
      "outputs": [
        {
          "output_type": "execute_result",
          "data": {
            "text/plain": [
              "58485.128764780784"
            ]
          },
          "metadata": {},
          "execution_count": 28
        }
      ]
    },
    {
      "cell_type": "code",
      "metadata": {
        "colab": {
          "base_uri": "https://localhost:8080/"
        },
        "id": "HX3qNxqOiYeN",
        "outputId": "101f1af6-5e89-401d-ebd8-0705a9b7a6aa"
      },
      "source": [
        "# modelo com quinze amostras em cada folha/nó e visualizando o resultado\n",
        "dec_tree14 = DecisionTreeRegressor(min_samples_leaf=15, random_state=42)\n",
        "dec_tree14.fit(X_train, y_train)\n",
        "\n",
        "pred = dec_tree14.predict(X_val)\n",
        "np.sqrt(mean_squared_error(y_val, pred))"
      ],
      "execution_count": null,
      "outputs": [
        {
          "output_type": "execute_result",
          "data": {
            "text/plain": [
              "58591.680092659466"
            ]
          },
          "metadata": {},
          "execution_count": 29
        }
      ]
    },
    {
      "cell_type": "code",
      "metadata": {
        "colab": {
          "base_uri": "https://localhost:8080/"
        },
        "id": "KL5lK2Yq214B",
        "outputId": "bdaeae3f-b0fc-4ac0-b7ab-017a9d3de652"
      },
      "source": [
        "# modelo com dezessete amostras em cada folha/nó e visualizando o resultado\n",
        "dec_tree15 = DecisionTreeRegressor(min_samples_leaf=17, random_state=42)\n",
        "dec_tree15.fit(X_train, y_train)\n",
        "\n",
        "pred = dec_tree15.predict(X_val)\n",
        "np.sqrt(mean_squared_error(y_val, pred))"
      ],
      "execution_count": null,
      "outputs": [
        {
          "output_type": "execute_result",
          "data": {
            "text/plain": [
              "58564.232904784345"
            ]
          },
          "metadata": {},
          "execution_count": 30
        }
      ]
    },
    {
      "cell_type": "markdown",
      "metadata": {
        "id": "UEtWJBFU3nr2"
      },
      "source": [
        "> Com essa estratégia a árvore com `min_samples_leaf=13`, obteve o melhor **erro médio quadrático**.\n",
        "- e quanto menor o erro, melhor é o modelo."
      ]
    },
    {
      "cell_type": "markdown",
      "metadata": {
        "id": "i9VFEXbv4tnq"
      },
      "source": [
        "Agora vamos conhecer um algoritmo que gera uma \"floresta\" com várias árvores."
      ]
    },
    {
      "cell_type": "markdown",
      "metadata": {
        "id": "0E4i1XYCaajR"
      },
      "source": [
        "### **Random Forest na Prática (Scikit-learn / Python)**"
      ]
    },
    {
      "cell_type": "markdown",
      "metadata": {
        "id": "Tp6St4r45Hpc"
      },
      "source": [
        "> Uma floresta aleatória é um metaestimador que ajusta várias árvores de decisão de classificação em várias subamostras do conjunto de dados e usa a média para melhorar a precisão preditiva e o sobreajuste de controle. O tamanho da subamostra é controlado com o parâmetro `max_samples` e `bootstrap=True(padrão)`, caso contrário, todo o conjunto de dados é usado para construir cada árvore."
      ]
    },
    {
      "cell_type": "markdown",
      "metadata": {
        "id": "s9YsmQ9z4RDF"
      },
      "source": [
        "- [Documentação](https://scikit-learn.org/stable/modules/generated/sklearn.ensemble.RandomForestRegressor.html?highlight=random%20forest#sklearn.ensemble.RandomForestRegressor)"
      ]
    },
    {
      "cell_type": "markdown",
      "metadata": {
        "id": "eW7HaJMX4jS6"
      },
      "source": [
        "**Importando as bibliotecas**"
      ]
    },
    {
      "cell_type": "code",
      "metadata": {
        "id": "zxLnl8PYYpfd"
      },
      "source": [
        "# importando as bibliotecas\n",
        "from sklearn.ensemble import RandomForestRegressor"
      ],
      "execution_count": null,
      "outputs": []
    },
    {
      "cell_type": "markdown",
      "metadata": {
        "id": "FTld7n6M7qUl"
      },
      "source": [
        "> [Paper original](https://www.stat.berkeley.edu/~breiman/randomforest2001.pdf)"
      ]
    },
    {
      "cell_type": "markdown",
      "metadata": {
        "id": "zd_liI9XHj5O"
      },
      "source": [
        "**Aplicando o modelo de floresta randômica**"
      ]
    },
    {
      "cell_type": "code",
      "metadata": {
        "colab": {
          "base_uri": "https://localhost:8080/"
        },
        "id": "deQM2vUHYpVB",
        "outputId": "51fe4479-1853-45ce-d576-c65d79c872d8"
      },
      "source": [
        "# instanciando o modelo com os argumentos fixando a aleatoriedade (random_state=42) \n",
        "# e \"n_jobs=-1\" - número de trabalhos a serem executados em paralelo (-1 significa usar todos os processadores)\n",
        "rand_for1 = RandomForestRegressor(random_state=42, n_jobs=-1)\n",
        "# treinando o modelo\n",
        "rand_for1.fit(X_train, y_train)\n",
        "\n",
        "# realizando as prediçẽos e calculando o erro médio quadrático\n",
        "pred = rand_for1.predict(X_val)\n",
        "np.sqrt(mean_squared_error(y_val, pred))"
      ],
      "execution_count": null,
      "outputs": [
        {
          "output_type": "execute_result",
          "data": {
            "text/plain": [
              "50348.64018905848"
            ]
          },
          "metadata": {},
          "execution_count": 32
        }
      ]
    },
    {
      "cell_type": "markdown",
      "metadata": {
        "id": "r7jed6iL7YUx"
      },
      "source": [
        "Vamos passar como argumento o `n_estimators=150`, onúmero de árvores na floresta."
      ]
    },
    {
      "cell_type": "code",
      "metadata": {
        "colab": {
          "base_uri": "https://localhost:8080/"
        },
        "id": "FqV1i_twawpx",
        "outputId": "52260ff5-05eb-4d6e-a8be-91d757c9b24b"
      },
      "source": [
        "# instanciando o modelo com \"n_estimators=150\" e avaliando o resultado\n",
        "rand_for2 = RandomForestRegressor(n_estimators=150, random_state=42, n_jobs=-1)\n",
        "rand_for2.fit(X_train, y_train)\n",
        "\n",
        "pred = rand_for2.predict(X_val)\n",
        "np.sqrt(mean_squared_error(y_val, pred))"
      ],
      "execution_count": null,
      "outputs": [
        {
          "output_type": "execute_result",
          "data": {
            "text/plain": [
              "50226.91965694783"
            ]
          },
          "metadata": {},
          "execution_count": 33
        }
      ]
    },
    {
      "cell_type": "code",
      "metadata": {
        "colab": {
          "base_uri": "https://localhost:8080/"
        },
        "id": "0684FRRMawoP",
        "outputId": "d71e5784-9f31-4878-dedd-67c231e8afba"
      },
      "source": [
        "# instanciando o modelo com \"n_estimators=300\" e avaliando o resultado\n",
        "rand_for3 = RandomForestRegressor(n_estimators=300, random_state=42, n_jobs=-1)\n",
        "rand_for3.fit(X_train, y_train)\n",
        "\n",
        "pred = rand_for3.predict(X_val)\n",
        "np.sqrt(mean_squared_error(y_val, pred))"
      ],
      "execution_count": null,
      "outputs": [
        {
          "output_type": "execute_result",
          "data": {
            "text/plain": [
              "50172.520640367205"
            ]
          },
          "metadata": {},
          "execution_count": 34
        }
      ]
    },
    {
      "cell_type": "code",
      "metadata": {
        "colab": {
          "base_uri": "https://localhost:8080/"
        },
        "id": "onvSnfBFawlm",
        "outputId": "def7915e-ef51-48b4-9021-a84a00b96788"
      },
      "source": [
        "# instanciando o modelo com \"n_estimators=500\" e avaliando o resultado\n",
        "rand_for4 = RandomForestRegressor(n_estimators=500, random_state=42, n_jobs=-1)\n",
        "rand_for4.fit(X_train, y_train)\n",
        "\n",
        "pred = rand_for4.predict(X_val)\n",
        "np.sqrt(mean_squared_error(y_val, pred))"
      ],
      "execution_count": null,
      "outputs": [
        {
          "output_type": "execute_result",
          "data": {
            "text/plain": [
              "50161.023544301366"
            ]
          },
          "metadata": {},
          "execution_count": 35
        }
      ]
    },
    {
      "cell_type": "code",
      "metadata": {
        "colab": {
          "base_uri": "https://localhost:8080/"
        },
        "id": "H_137lW6awdf",
        "outputId": "a9711da8-e065-4d38-9eb2-44acc6400fce"
      },
      "source": [
        "# instanciando o modelo com \"n_estimators=700\" e avaliando o resultado\n",
        "rand_for5 = RandomForestRegressor(n_estimators=700, random_state=42, n_jobs=-1)\n",
        "rand_for5.fit(X_train, y_train)\n",
        "\n",
        "pred = rand_for5.predict(X_val)\n",
        "np.sqrt(mean_squared_error(y_val, pred))"
      ],
      "execution_count": null,
      "outputs": [
        {
          "output_type": "execute_result",
          "data": {
            "text/plain": [
              "50093.896672030445"
            ]
          },
          "metadata": {},
          "execution_count": 36
        }
      ]
    },
    {
      "cell_type": "code",
      "metadata": {
        "colab": {
          "base_uri": "https://localhost:8080/"
        },
        "id": "Gqe34dFrawbX",
        "outputId": "45fd4f0d-7e26-452e-c683-893ccbf74872"
      },
      "source": [
        "# instanciando o modelo com \"n_estimators=1000\" e avaliando o resultado\n",
        "rand_for6 = RandomForestRegressor(n_estimators=1000, random_state=42, n_jobs=-1)\n",
        "rand_for6.fit(X_train, y_train)\n",
        "\n",
        "pred = rand_for6.predict(X_val)\n",
        "np.sqrt(mean_squared_error(y_val, pred))"
      ],
      "execution_count": null,
      "outputs": [
        {
          "output_type": "execute_result",
          "data": {
            "text/plain": [
              "50086.130394589476"
            ]
          },
          "metadata": {},
          "execution_count": 37
        }
      ]
    },
    {
      "cell_type": "code",
      "metadata": {
        "id": "s0y-8YFoawYS",
        "colab": {
          "base_uri": "https://localhost:8080/"
        },
        "outputId": "b505b1b8-d8b3-428e-cce6-13289091cc66"
      },
      "source": [
        "# instanciando o modelo com \"n_estimators=1500\" e avaliando o resultado\n",
        "rand_for7 = RandomForestRegressor(n_estimators=1500, random_state=42, n_jobs=-1)\n",
        "rand_for7.fit(X_train, y_train)\n",
        "\n",
        "pred = rand_for7.predict(X_val)\n",
        "np.sqrt(mean_squared_error(y_val, pred))"
      ],
      "execution_count": null,
      "outputs": [
        {
          "output_type": "execute_result",
          "data": {
            "text/plain": [
              "50089.21625241292"
            ]
          },
          "metadata": {},
          "execution_count": 38
        }
      ]
    },
    {
      "cell_type": "markdown",
      "metadata": {
        "id": "AJjL_MPf-KAG"
      },
      "source": [
        "> O modelo com `n_estimators=1000` obteve o melhor resultado.\n",
        "\n",
        "Vamos usar outro argumento importante que traz resultado interessante, o `min_samples_leaf`.\n",
        "- número mínimo de amostras necessárias para estar em um nó folha. Um ponto de divisão em qualquer profundidade só será considerado se deixar pelo menos minimod de amostras (`min_samples_leaf`) de treinamento em cada um dos ramos esquerdo e direito. Isso pode ter o efeito de suavizar o modelo, especialmente na regressão."
      ]
    },
    {
      "cell_type": "code",
      "metadata": {
        "colab": {
          "base_uri": "https://localhost:8080/"
        },
        "id": "bZHSzak69rfk",
        "outputId": "4494d121-49a3-48e4-efe6-e7bd7c75cacb"
      },
      "source": [
        "# instanciando o modelo com \"n_estimators=300\", \"min_samples_leaf=2\", \"random_state=42\", \"n_jobs=-1\" e avaliando o resultado\n",
        "rand_for8 = RandomForestRegressor(n_estimators=300, min_samples_leaf=2, random_state=42, n_jobs=-1)\n",
        "rand_for8.fit(X_train, y_train)\n",
        "\n",
        "pred = rand_for8.predict(X_val)\n",
        "np.sqrt(mean_squared_error(y_val, pred))"
      ],
      "execution_count": null,
      "outputs": [
        {
          "output_type": "execute_result",
          "data": {
            "text/plain": [
              "50029.258355781334"
            ]
          },
          "metadata": {},
          "execution_count": 39
        }
      ]
    },
    {
      "cell_type": "markdown",
      "metadata": {
        "id": "jyn9g6HN_xzu"
      },
      "source": [
        "> Veja que este modelo foi melhor que o modelo com `n_estimators=1000`, simplesmente utilizando o argumento `min_samples_leaf=2` e reduzindo o `n_estimators=300`. \n",
        "\n",
        "Pórem vamos tentar encontrar os melhores parâmetros para o modelo."
      ]
    },
    {
      "cell_type": "code",
      "metadata": {
        "colab": {
          "base_uri": "https://localhost:8080/"
        },
        "id": "WKp1kxRL9rcc",
        "outputId": "927b85f0-58a5-4c75-f44b-27c7dde3f9f1"
      },
      "source": [
        "# instanciando o modelo com \"n_estimators=100\", \"min_samples_leaf=2\", \"random_state=42\", \"n_jobs=-1\" e avaliando o resultado\n",
        "rand_for9 = RandomForestRegressor(n_estimators=100, min_samples_leaf=2, random_state=42, n_jobs=-1)\n",
        "rand_for9.fit(X_train, y_train)\n",
        "\n",
        "pred = rand_for9.predict(X_val)\n",
        "np.sqrt(mean_squared_error(y_val, pred))"
      ],
      "execution_count": null,
      "outputs": [
        {
          "output_type": "execute_result",
          "data": {
            "text/plain": [
              "50108.259231617885"
            ]
          },
          "metadata": {},
          "execution_count": 40
        }
      ]
    },
    {
      "cell_type": "code",
      "metadata": {
        "colab": {
          "base_uri": "https://localhost:8080/"
        },
        "id": "a4OHhZyO9raB",
        "outputId": "af3fb0e2-dc4b-4cb1-b6d8-f1b940288989"
      },
      "source": [
        "# instanciando o modelo com \"n_estimators=300\", \"min_samples_leaf=3\", \"random_state=42\", \"n_jobs=-1\" e avaliando o resultado\n",
        "rand_for10 = RandomForestRegressor(n_estimators=300, min_samples_leaf=3, random_state=42, n_jobs=-1)\n",
        "rand_for10.fit(X_train, y_train)\n",
        "\n",
        "pred = rand_for10.predict(X_val)\n",
        "np.sqrt(mean_squared_error(y_val, pred))"
      ],
      "execution_count": null,
      "outputs": [
        {
          "output_type": "execute_result",
          "data": {
            "text/plain": [
              "50206.29157369528"
            ]
          },
          "metadata": {},
          "execution_count": 41
        }
      ]
    },
    {
      "cell_type": "markdown",
      "metadata": {
        "id": "7SOisDEvBn69"
      },
      "source": [
        "> O modelo com parâmetros de  \"n_estimators=300\", \"min_samples_leaf=2\", \"random_state=42\", \"n_jobs=-1\", obteve o melhor resultado."
      ]
    },
    {
      "cell_type": "markdown",
      "metadata": {
        "id": "sc-AllMzCAIi"
      },
      "source": [
        "### **Bônus - árvore de decisão ajustada manualmente**"
      ]
    },
    {
      "cell_type": "code",
      "metadata": {
        "id": "wZerzdnBelIZ"
      },
      "source": [
        "# importando as bibliotecas\n",
        "import pydot\n",
        "import graphviz\n",
        "\n",
        "from sklearn.tree import export_graphviz"
      ],
      "execution_count": null,
      "outputs": []
    },
    {
      "cell_type": "code",
      "metadata": {
        "id": "53XlSwkbelEe",
        "colab": {
          "base_uri": "https://localhost:8080/",
          "height": 401,
          "referenced_widgets": [
            "c1a0fd163ab14871873355a3c1f98d97",
            "bca1ecb2087d40948a5a3f3847b7c8f9",
            "b8c3ac6bfa0746beb11d47efb54b864b",
            "89e22807bbef4b8f91355b9ab968cca6",
            "d36961c85ebe47c3b482742721444fc8",
            "a935ec2780a948d4b2d6a9e7c377a241",
            "794f9ecd48eb40b3b110b11fcde1fd18",
            "81cf7afa7c0c49488ed9161fc56ec1a8",
            "8389875b2c5d4505a66108af8e1ace99",
            "9aa8be487bb74928beecf257bc15c31b",
            "42a5e7e54baa42cf9d1f5f18cde46913",
            "856818804be84182bb5a360c189a2a6a",
            "99afc03ae47d4adb9195d12f2dd28f94",
            "6c07b5ab213b4060af01689dade281a2",
            "f2bc53fa6e59404c8e9558a58b37c2a1",
            "12c6eb3daad64e76ac4e7c56e93af9bf",
            "e290548e7aca42b79396e738c6c5796b",
            "2bbe06b940e246d1b61a4fefffd9420b",
            "39d1e370317d4ec28716b0f125040643"
          ]
        },
        "outputId": "69da6c64-840c-47f8-ef45-b2dc69f29d53"
      },
      "source": [
        "# importando as funções\n",
        "from ipywidgets import interactive\n",
        "from IPython.display import SVG,display\n",
        "from graphviz import Source\n",
        "\n",
        "# instanciando as variáveis explicativas (X) e a resposta (y)\n",
        "X, y = data.drop('median_house_value',axis=1), data['median_house_value']\n",
        "\n",
        "# instanciando os rótulos\n",
        "features_label = data.drop('median_house_value',\n",
        "                           axis=1).columns\n",
        "\n",
        "# # instanciando as classes\n",
        "# class_label = ['0','1']\n",
        "\n",
        "# criando uma função para os parâmetros da árvore e seu estimador\n",
        "'''\n",
        "Segue os parâmetros:\n",
        " - critério;\n",
        " - divisão;\n",
        " - profundidade;\n",
        " - mínimo das amostras da divisão e,\n",
        " - mínimo das amostras da folha.\n",
        "'''\n",
        "def plot_tree(crit, split, depth, min_samples_split, min_samples_leaf=0.2):\n",
        "    estimator = DecisionTreeRegressor(\n",
        "        random_state = 42,\n",
        "        criterion = crit,\n",
        "        splitter = split,\n",
        "        max_depth = depth,\n",
        "        min_samples_split=min_samples_split,\n",
        "        min_samples_leaf=min_samples_leaf\n",
        "    )\n",
        "\n",
        "    # aplicando o treinamento do estimador nas variáveis X e y\n",
        "    estimator.fit(X, y)\n",
        "    \n",
        "    # instanciando objeto gráfico\n",
        "    graph = Source(export_graphviz(estimator,\n",
        "                                   out_file=None,\n",
        "                                   feature_names=features_label,\n",
        "                                #    class_names=class_label,\n",
        "                                   impurity=True, \n",
        "                                   filled = True))\n",
        "    display(SVG(graph.pipe(format='svg')))\n",
        "\n",
        "    # retornando o estimador\n",
        "    return estimator\n",
        "\n",
        "# definindo os parâmetros do objeto gráfico\n",
        "inter=interactive(plot_tree, \n",
        "                  crit = ['squared_error', 'friedman_mse', 'absolute_error', 'poisson'], \n",
        "                  split = ['best', 'random'], \n",
        "                  depth=[1,2,3,4,5,10,20,30], \n",
        "                  min_samples_split=(1,15), \n",
        "                  min_samples_leaf=(1,15))\n",
        "\n",
        "# visualizando o objeto gráfico\n",
        "display(inter);"
      ],
      "execution_count": null,
      "outputs": [
        {
          "output_type": "display_data",
          "data": {
            "application/vnd.jupyter.widget-view+json": {
              "model_id": "c1a0fd163ab14871873355a3c1f98d97",
              "version_minor": 0,
              "version_major": 2
            },
            "text/plain": [
              "interactive(children=(Dropdown(description='crit', options=('squared_error', 'friedman_mse', 'absolute_error',…"
            ]
          },
          "metadata": {}
        }
      ]
    },
    {
      "cell_type": "markdown",
      "metadata": {
        "id": "oeoTOncNKYwG"
      },
      "source": [
        "### **Vídeo-aula:**\n",
        "- [Mario Filho](https://www.youtube.com/playlist?list=PLwnip85KhroUBuVfAEUz4jE5ejQ5vXf6N)"
      ]
    },
    {
      "cell_type": "code",
      "metadata": {
        "id": "NEwCm5uEqsX5"
      },
      "source": [
        ""
      ],
      "execution_count": null,
      "outputs": []
    },
    {
      "cell_type": "code",
      "metadata": {
        "id": "wJbNOpWEqsH6"
      },
      "source": [
        ""
      ],
      "execution_count": null,
      "outputs": []
    },
    {
      "cell_type": "code",
      "metadata": {
        "id": "aiQ2QPsDqr8C"
      },
      "source": [
        ""
      ],
      "execution_count": null,
      "outputs": []
    }
  ]
}